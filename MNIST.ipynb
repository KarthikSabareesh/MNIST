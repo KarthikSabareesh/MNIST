{
  "nbformat": 4,
  "nbformat_minor": 0,
  "metadata": {
    "colab": {
      "provenance": []
    },
    "kernelspec": {
      "name": "python3",
      "display_name": "Python 3"
    },
    "language_info": {
      "name": "python"
    }
  },
  "cells": [
    {
      "cell_type": "markdown",
      "source": [
        "#MNIST Image Classification\n",
        "\n",
        "##By : Karthik Sabareesh\n",
        "###Github : https://github.com/KarthikSabareesh"
      ],
      "metadata": {
        "id": "rhJcyX_vsFEX"
      }
    },
    {
      "cell_type": "code",
      "source": [
        "import numpy as np\n",
        "import tensorflow as tf\n",
        "from tensorflow import keras\n",
        "from tensorflow.keras import layers"
      ],
      "metadata": {
        "id": "q7Y3PjGHsGoF"
      },
      "execution_count": 1,
      "outputs": []
    },
    {
      "cell_type": "code",
      "source": [
        "from tensorflow.keras.callbacks import ModelCheckpoint\n",
        "checkpoint_callback = ModelCheckpoint(\n",
        "    filepath='best_model.h5',\n",
        "    monitor='val_loss',\n",
        "    save_best_only=True,\n",
        "    save_weights_only=True\n",
        ")"
      ],
      "metadata": {
        "id": "U7BhByKlNXM-"
      },
      "execution_count": 2,
      "outputs": []
    },
    {
      "cell_type": "markdown",
      "source": [
        "##Loading MNIST dataset"
      ],
      "metadata": {
        "id": "VkxwaD8nrYEk"
      }
    },
    {
      "cell_type": "code",
      "source": [
        "# Load MNIST dataset\n",
        "(x_train, y_train), (x_test, y_test) = tf.keras.datasets.mnist.load_data()\n"
      ],
      "metadata": {
        "id": "wrZ-I510Ndv7",
        "colab": {
          "base_uri": "https://localhost:8080/"
        },
        "outputId": "06a19761-af75-42bb-b355-553ce97919d5"
      },
      "execution_count": 3,
      "outputs": [
        {
          "output_type": "stream",
          "name": "stdout",
          "text": [
            "Downloading data from https://storage.googleapis.com/tensorflow/tf-keras-datasets/mnist.npz\n",
            "11490434/11490434 [==============================] - 0s 0us/step\n"
          ]
        }
      ]
    },
    {
      "cell_type": "markdown",
      "source": [
        "##Preparing data"
      ],
      "metadata": {
        "id": "HF5C3baWrh3_"
      }
    },
    {
      "cell_type": "code",
      "source": [
        "# Preprocess the data\n",
        "x_train = x_train.reshape(-1, 784) / 255.0  # Flatten and normalize\n",
        "x_test = x_test.reshape(-1, 784) / 255.0\n",
        "y_train = tf.keras.utils.to_categorical(y_train, num_classes=10)  # One-hot encode labels\n",
        "y_test = tf.keras.utils.to_categorical(y_test, num_classes=10)"
      ],
      "metadata": {
        "id": "EKG3KUcPreEE"
      },
      "execution_count": 4,
      "outputs": []
    },
    {
      "cell_type": "markdown",
      "source": [
        "##Defining callback"
      ],
      "metadata": {
        "id": "SHDphw8-roNj"
      }
    },
    {
      "cell_type": "code",
      "source": [
        "\n",
        "# Define the checkpoint callback\n",
        "checkpoint_callback = tf.keras.callbacks.ModelCheckpoint(\n",
        "    filepath='best_weights.h5',\n",
        "    save_best_only=True,\n",
        "    save_weights_only=True,\n",
        "    monitor='val_accuracy',\n",
        "    mode='max',\n",
        "    verbose=1\n",
        ")"
      ],
      "metadata": {
        "id": "Rn4y_-mArq4Q"
      },
      "execution_count": 5,
      "outputs": []
    },
    {
      "cell_type": "markdown",
      "source": [
        "##Building model"
      ],
      "metadata": {
        "id": "HD3f7OW3rwrM"
      }
    },
    {
      "cell_type": "code",
      "source": [
        "# Build the neural network\n",
        "model = tf.keras.models.Sequential([\n",
        "    tf.keras.layers.Dense(256, activation='relu', input_shape=(784,)),\n",
        "    tf.keras.layers.Dense(128, activation='relu'),\n",
        "    tf.keras.layers.Dense(64, activation='relu'),\n",
        "    tf.keras.layers.Dense(10, activation='softmax')\n",
        "])"
      ],
      "metadata": {
        "id": "csrxgQGpryZ3"
      },
      "execution_count": 6,
      "outputs": []
    },
    {
      "cell_type": "code",
      "source": [
        "# Compile the model\n",
        "model.compile(optimizer='adam', loss='categorical_crossentropy', metrics=['accuracy'])"
      ],
      "metadata": {
        "id": "ma9MSJh1r2kC"
      },
      "execution_count": 7,
      "outputs": []
    },
    {
      "cell_type": "markdown",
      "source": [
        "##Fitting our model,loading best weights and evaluating"
      ],
      "metadata": {
        "id": "VKNSQYuXr7_n"
      }
    },
    {
      "cell_type": "code",
      "source": [
        "# Train the model\n",
        "model.fit(x_train, y_train, batch_size=128, epochs=10, validation_split=0.1, callbacks=[checkpoint_callback])\n",
        "\n",
        "# Load the best weights\n",
        "model.load_weights('best_weights.h5')\n",
        "\n",
        "# Evaluate the model\n",
        "loss, accuracy = model.evaluate(x_test, y_test)\n",
        "print(\"Test accuracy:\", accuracy)\n"
      ],
      "metadata": {
        "colab": {
          "base_uri": "https://localhost:8080/"
        },
        "id": "RyRSmcj1r-Yh",
        "outputId": "5483b152-1bff-40f4-fc40-9414e749b529"
      },
      "execution_count": null,
      "outputs": [
        {
          "output_type": "stream",
          "name": "stdout",
          "text": [
            "Epoch 1/10\n",
            "412/422 [============================>.] - ETA: 0s - loss: 0.3011 - accuracy: 0.9119\n",
            "Epoch 1: val_accuracy improved from -inf to 0.96400, saving model to best_weights.h5\n",
            "422/422 [==============================] - 3s 6ms/step - loss: 0.2981 - accuracy: 0.9128 - val_loss: 0.1196 - val_accuracy: 0.9640\n",
            "Epoch 2/10\n",
            "412/422 [============================>.] - ETA: 0s - loss: 0.1086 - accuracy: 0.9668\n",
            "Epoch 2: val_accuracy improved from 0.96400 to 0.97533, saving model to best_weights.h5\n",
            "422/422 [==============================] - 2s 5ms/step - loss: 0.1090 - accuracy: 0.9667 - val_loss: 0.0850 - val_accuracy: 0.9753\n",
            "Epoch 3/10\n",
            "419/422 [============================>.] - ETA: 0s - loss: 0.0705 - accuracy: 0.9781\n",
            "Epoch 3: val_accuracy improved from 0.97533 to 0.97667, saving model to best_weights.h5\n",
            "422/422 [==============================] - 2s 5ms/step - loss: 0.0705 - accuracy: 0.9781 - val_loss: 0.0800 - val_accuracy: 0.9767\n",
            "Epoch 4/10\n",
            "415/422 [============================>.] - ETA: 0s - loss: 0.0506 - accuracy: 0.9843\n",
            "Epoch 4: val_accuracy did not improve from 0.97667\n",
            "422/422 [==============================] - 2s 5ms/step - loss: 0.0510 - accuracy: 0.9842 - val_loss: 0.0757 - val_accuracy: 0.9767\n",
            "Epoch 5/10\n",
            "420/422 [============================>.] - ETA: 0s - loss: 0.0387 - accuracy: 0.9880\n",
            "Epoch 5: val_accuracy improved from 0.97667 to 0.97900, saving model to best_weights.h5\n",
            "422/422 [==============================] - 3s 6ms/step - loss: 0.0388 - accuracy: 0.9880 - val_loss: 0.0752 - val_accuracy: 0.9790\n",
            "Epoch 6/10\n",
            "417/422 [============================>.] - ETA: 0s - loss: 0.0297 - accuracy: 0.9900\n",
            "Epoch 6: val_accuracy did not improve from 0.97900\n",
            "422/422 [==============================] - 2s 5ms/step - loss: 0.0298 - accuracy: 0.9900 - val_loss: 0.0770 - val_accuracy: 0.9790\n",
            "Epoch 7/10\n",
            "421/422 [============================>.] - ETA: 0s - loss: 0.0239 - accuracy: 0.9922\n",
            "Epoch 7: val_accuracy improved from 0.97900 to 0.98100, saving model to best_weights.h5\n",
            "422/422 [==============================] - 2s 5ms/step - loss: 0.0240 - accuracy: 0.9922 - val_loss: 0.0776 - val_accuracy: 0.9810\n",
            "Epoch 8/10\n",
            "411/422 [============================>.] - ETA: 0s - loss: 0.0193 - accuracy: 0.9939\n",
            "Epoch 8: val_accuracy improved from 0.98100 to 0.98233, saving model to best_weights.h5\n",
            "422/422 [==============================] - 2s 5ms/step - loss: 0.0199 - accuracy: 0.9937 - val_loss: 0.0743 - val_accuracy: 0.9823\n",
            "Epoch 9/10\n",
            "413/422 [============================>.] - ETA: 0s - loss: 0.0198 - accuracy: 0.9930\n",
            "Epoch 9: val_accuracy did not improve from 0.98233\n",
            "422/422 [==============================] - 2s 5ms/step - loss: 0.0198 - accuracy: 0.9930 - val_loss: 0.0861 - val_accuracy: 0.9790\n",
            "Epoch 10/10\n",
            "418/422 [============================>.] - ETA: 0s - loss: 0.0165 - accuracy: 0.9944\n",
            "Epoch 10: val_accuracy did not improve from 0.98233\n",
            "422/422 [==============================] - 3s 6ms/step - loss: 0.0166 - accuracy: 0.9944 - val_loss: 0.0929 - val_accuracy: 0.9797\n",
            "313/313 [==============================] - 1s 2ms/step - loss: 0.0745 - accuracy: 0.9810\n",
            "Test accuracy: 0.9810000061988831\n"
          ]
        }
      ]
    }
  ]
}